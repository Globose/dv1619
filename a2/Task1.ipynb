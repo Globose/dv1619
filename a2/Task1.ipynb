{
 "cells": [
  {
   "cell_type": "code",
   "execution_count": 57,
   "metadata": {},
   "outputs": [],
   "source": [
    "# Imports \n",
    "import numpy as np\n",
    "import random\n",
    "from datetime import datetime"
   ]
  },
  {
   "cell_type": "code",
   "execution_count": 58,
   "metadata": {},
   "outputs": [],
   "source": [
    "# Parameters\n",
    "n_cities = 20\n",
    "n_population = 10\n",
    "mutation_rate = 0.1"
   ]
  },
  {
   "cell_type": "code",
   "execution_count": 59,
   "metadata": {},
   "outputs": [
    {
     "data": {
      "text/plain": [
       "{'Berlin': [53, 3],\n",
       " 'London': [1, 83],\n",
       " 'Moscow': [60, 0],\n",
       " 'Barcelona': [32, 11],\n",
       " 'Rome': [96, 34],\n",
       " 'Paris': [90, 76],\n",
       " 'Vienna': [55, 1],\n",
       " 'Munich': [60, 55],\n",
       " 'Istanbul': [68, 48],\n",
       " 'Kyiv': [85, 16],\n",
       " 'Bucharest': [82, 99],\n",
       " 'Minsk': [83, 7],\n",
       " 'Warsaw': [79, 5],\n",
       " 'Budapest': [98, 54],\n",
       " 'Milan': [29, 57],\n",
       " 'Prague': [84, 44],\n",
       " 'Sofia': [87, 27],\n",
       " 'Birmingham': [15, 85],\n",
       " 'Brussels': [84, 61],\n",
       " 'Amsterdam': [7, 87]}"
      ]
     },
     "execution_count": 59,
     "metadata": {},
     "output_type": "execute_result"
    }
   ],
   "source": [
    "# Generating a list of coordenades representing each city\n",
    "coordinates_list = [[x,y] for x,y in zip(np.random.randint(0,100,n_cities),np.random.randint(0,100,n_cities))]\n",
    "names_list = np.array(['Berlin', 'London', 'Moscow', 'Barcelona', 'Rome', 'Paris', 'Vienna', 'Munich', 'Istanbul', 'Kyiv', 'Bucharest', 'Minsk', 'Warsaw', 'Budapest', 'Milan', 'Prague', 'Sofia', 'Birmingham', 'Brussels', 'Amsterdam'])\n",
    "cities_dict = { x:y for x,y in zip(names_list,coordinates_list)}\n",
    "\n",
    "# Function to compute the distance between two points\n",
    "def compute_city_distance_coordinates(a,b):\n",
    "    return ((a[0]-b[0])**2+(a[1]-b[1])**2)**0.5\n",
    "\n",
    "def compute_city_distance_names(city_a, city_b, cities_dict):\n",
    "    return compute_city_distance_coordinates(cities_dict[city_a], cities_dict[city_b])\n",
    "\n",
    "cities_dict"
   ]
  },
  {
   "cell_type": "code",
   "execution_count": 60,
   "metadata": {},
   "outputs": [
    {
     "data": {
      "text/plain": [
       "array([['Brussels', 'Milan', 'Paris', 'Prague', 'Sofia', 'Birmingham',\n",
       "        'Moscow', 'London', 'Munich', 'Berlin', 'Vienna', 'Amsterdam',\n",
       "        'Bucharest', 'Minsk', 'Warsaw', 'Kyiv', 'Rome', 'Istanbul',\n",
       "        'Budapest', 'Barcelona'],\n",
       "       ['Amsterdam', 'Budapest', 'Prague', 'Warsaw', 'Sofia', 'London',\n",
       "        'Berlin', 'Minsk', 'Barcelona', 'Bucharest', 'Rome', 'Istanbul',\n",
       "        'Munich', 'Paris', 'Vienna', 'Brussels', 'Birmingham', 'Kyiv',\n",
       "        'Milan', 'Moscow'],\n",
       "       ['Prague', 'Bucharest', 'Warsaw', 'Barcelona', 'Vienna',\n",
       "        'Budapest', 'Brussels', 'Berlin', 'Paris', 'Birmingham',\n",
       "        'Moscow', 'Milan', 'Sofia', 'Rome', 'London', 'Amsterdam',\n",
       "        'Istanbul', 'Minsk', 'Kyiv', 'Munich'],\n",
       "       ['Barcelona', 'London', 'Sofia', 'Moscow', 'Milan', 'Vienna',\n",
       "        'Bucharest', 'Amsterdam', 'Brussels', 'Istanbul', 'Berlin',\n",
       "        'Kyiv', 'Budapest', 'Minsk', 'Prague', 'Rome', 'Birmingham',\n",
       "        'Munich', 'Warsaw', 'Paris'],\n",
       "       ['Istanbul', 'Kyiv', 'Minsk', 'Munich', 'Sofia', 'Vienna',\n",
       "        'Milan', 'Brussels', 'Budapest', 'Berlin', 'Birmingham', 'Rome',\n",
       "        'Paris', 'Prague', 'Barcelona', 'Warsaw', 'Amsterdam', 'Moscow',\n",
       "        'London', 'Bucharest'],\n",
       "       ['Paris', 'Vienna', 'Brussels', 'Kyiv', 'Warsaw', 'Prague',\n",
       "        'Rome', 'Munich', 'Bucharest', 'Milan', 'Berlin', 'London',\n",
       "        'Sofia', 'Istanbul', 'Barcelona', 'Minsk', 'Budapest',\n",
       "        'Amsterdam', 'Moscow', 'Birmingham'],\n",
       "       ['Brussels', 'Munich', 'Moscow', 'Kyiv', 'Milan', 'Prague',\n",
       "        'Paris', 'Istanbul', 'Amsterdam', 'Birmingham', 'Berlin',\n",
       "        'Barcelona', 'London', 'Warsaw', 'Vienna', 'Bucharest', 'Minsk',\n",
       "        'Sofia', 'Budapest', 'Rome'],\n",
       "       ['Warsaw', 'Bucharest', 'Kyiv', 'Vienna', 'Munich', 'Birmingham',\n",
       "        'Brussels', 'Milan', 'Istanbul', 'Prague', 'Rome', 'Berlin',\n",
       "        'Moscow', 'London', 'Minsk', 'Budapest', 'Barcelona',\n",
       "        'Amsterdam', 'Paris', 'Sofia'],\n",
       "       ['London', 'Istanbul', 'Sofia', 'Minsk', 'Prague', 'Amsterdam',\n",
       "        'Munich', 'Kyiv', 'Budapest', 'Berlin', 'Bucharest', 'Milan',\n",
       "        'Barcelona', 'Moscow', 'Vienna', 'Paris', 'Birmingham', 'Rome',\n",
       "        'Brussels', 'Warsaw'],\n",
       "       ['Brussels', 'Amsterdam', 'Prague', 'Paris', 'Birmingham',\n",
       "        'Milan', 'Kyiv', 'Istanbul', 'Warsaw', 'Barcelona', 'Sofia',\n",
       "        'Bucharest', 'Munich', 'Budapest', 'Vienna', 'Berlin', 'London',\n",
       "        'Rome', 'Minsk', 'Moscow']], dtype='<U10')"
      ]
     },
     "execution_count": 60,
     "metadata": {},
     "output_type": "execute_result"
    }
   ],
   "source": [
    "# First step: Create the first population set\n",
    "def genesis(city_list, n_population):\n",
    "\n",
    "    population_set = []\n",
    "    for i in range(n_population):\n",
    "        #Randomly generating a new solution\n",
    "        sol_i = city_list[np.random.choice(list(range(n_cities)), n_cities, replace=False)]\n",
    "        population_set.append(sol_i)\n",
    "    return np.array(population_set)\n",
    "\n",
    "population_set = genesis(names_list, n_population)\n",
    "population_set"
   ]
  },
  {
   "cell_type": "code",
   "execution_count": 61,
   "metadata": {},
   "outputs": [],
   "source": [
    "def fitness_eval(city_list, cities_dict):\n",
    "    total = 0\n",
    "    for i in range(n_cities-1):\n",
    "        a = city_list[i]\n",
    "        b = city_list[i+1]\n",
    "        total += compute_city_distance_names(a,b, cities_dict)\n",
    "    return total"
   ]
  },
  {
   "cell_type": "code",
   "execution_count": 62,
   "metadata": {},
   "outputs": [
    {
     "data": {
      "text/plain": [
       "array([1025.14201711, 1157.49239914, 1052.06161623, 1124.55998238,\n",
       "       1144.80573118, 1152.79828597,  973.34121084, 1134.48823961,\n",
       "       1054.90520326, 1050.32451795])"
      ]
     },
     "execution_count": 62,
     "metadata": {},
     "output_type": "execute_result"
    }
   ],
   "source": [
    "def get_all_fitnes(population_set, cities_dict):\n",
    "    fitnes_list = np.zeros(n_population)\n",
    "\n",
    "    #Looping over all solutions computing the fitness for each solution\n",
    "    for i in  range(n_population):\n",
    "        fitnes_list[i] = fitness_eval(population_set[i], cities_dict)\n",
    "\n",
    "    return fitnes_list\n",
    "\n",
    "fitnes_list = get_all_fitnes(population_set,cities_dict)\n",
    "fitnes_list"
   ]
  },
  {
   "cell_type": "code",
   "execution_count": 63,
   "metadata": {},
   "outputs": [
    {
     "data": {
      "text/plain": [
       "array(['Paris', 'Vienna', 'Brussels', 'Kyiv', 'Warsaw', 'Prague', 'Rome',\n",
       "       'Munich', 'Bucharest', 'Milan', 'Berlin', 'London', 'Sofia',\n",
       "       'Istanbul', 'Barcelona', 'Minsk', 'Budapest', 'Amsterdam',\n",
       "       'Moscow', 'Birmingham'], dtype='<U10')"
      ]
     },
     "execution_count": 63,
     "metadata": {},
     "output_type": "execute_result"
    }
   ],
   "source": [
    "def progenitor_selection(population_set,fitnes_list):\n",
    "    total_fit = fitnes_list.sum()\n",
    "    prob_list = (total_fit/fitnes_list)\n",
    "    prob_list = prob_list/prob_list.sum()\n",
    "    \n",
    "    #Notice there is the chance that a progenitor. mates with oneself\n",
    "    progenitor_list_a = np.random.choice(list(range(len(population_set))), len(population_set),p=prob_list, replace=True)\n",
    "    progenitor_list_b = np.random.choice(list(range(len(population_set))), len(population_set),p=prob_list, replace=True)\n",
    "    \n",
    "    progenitor_list_a = population_set[progenitor_list_a]\n",
    "    progenitor_list_b = population_set[progenitor_list_b]\n",
    "    \n",
    "    \n",
    "    return np.array([progenitor_list_a,progenitor_list_b])\n",
    "\n",
    "\n",
    "progenitor_list = progenitor_selection(population_set,fitnes_list)\n",
    "progenitor_list[0][2]"
   ]
  },
  {
   "cell_type": "code",
   "execution_count": 64,
   "metadata": {},
   "outputs": [
    {
     "data": {
      "text/plain": [
       "array(['Brussels', 'Munich', 'Moscow', 'Kyiv', 'Milan', 'Warsaw',\n",
       "       'Bucharest', 'Vienna', 'Birmingham', 'Istanbul', 'Prague', 'Rome',\n",
       "       'Berlin', 'London', 'Minsk', 'Budapest', 'Barcelona', 'Amsterdam',\n",
       "       'Paris', 'Sofia'], dtype='<U10')"
      ]
     },
     "execution_count": 64,
     "metadata": {},
     "output_type": "execute_result"
    }
   ],
   "source": [
    "def mate_progenitors(prog_a, prog_b):\n",
    "    offspring = prog_a[0:5]\n",
    "\n",
    "    for city in prog_b:\n",
    "\n",
    "        if not city in offspring:\n",
    "            offspring = np.concatenate((offspring,[city]))\n",
    "\n",
    "    return offspring\n",
    "            \n",
    "    \n",
    "    \n",
    "def mate_population(progenitor_list):\n",
    "    new_population_set = []\n",
    "    for i in range(progenitor_list.shape[1]):\n",
    "        prog_a, prog_b = progenitor_list[0][i], progenitor_list[1][i]\n",
    "        offspring = mate_progenitors(prog_a, prog_b)\n",
    "        new_population_set.append(offspring)\n",
    "        \n",
    "    return new_population_set\n",
    "\n",
    "new_population_set = mate_population(progenitor_list)\n",
    "new_population_set[0]"
   ]
  },
  {
   "cell_type": "code",
   "execution_count": 65,
   "metadata": {},
   "outputs": [
    {
     "data": {
      "text/plain": [
       "array(['Brussels', 'Munich', 'Moscow', 'Kyiv', 'Milan', 'Warsaw',\n",
       "       'Bucharest', 'Minsk', 'Birmingham', 'Vienna', 'Prague', 'Rome',\n",
       "       'Berlin', 'London', 'Istanbul', 'Budapest', 'Barcelona',\n",
       "       'Amsterdam', 'Paris', 'Sofia'], dtype='<U10')"
      ]
     },
     "execution_count": 65,
     "metadata": {},
     "output_type": "execute_result"
    }
   ],
   "source": [
    "def mutate_offspring(offspring):\n",
    "    for q in range(int(n_cities*mutation_rate)):\n",
    "        a = np.random.randint(0,n_cities)\n",
    "        b = np.random.randint(0,n_cities)\n",
    "\n",
    "        offspring[a], offspring[b] = offspring[b], offspring[a]\n",
    "\n",
    "    return offspring\n",
    "    \n",
    "    \n",
    "def mutate_population(new_population_set):\n",
    "    mutated_pop = []\n",
    "    for offspring in new_population_set:\n",
    "        mutated_pop.append(mutate_offspring(offspring))\n",
    "    return mutated_pop\n",
    "\n",
    "mutated_pop = mutate_population(new_population_set)\n",
    "mutated_pop[0]"
   ]
  },
  {
   "cell_type": "code",
   "execution_count": 66,
   "metadata": {},
   "outputs": [
    {
     "name": "stdout",
     "output_type": "stream",
     "text": [
      "0 inf 1086.9919203673544 26/09/24 18:02\n",
      "50 787.2575287018548 1142.7199571267245 26/09/24 18:02\n",
      "100 787.2575287018548 1117.5521711361023 26/09/24 18:02\n",
      "150 787.2575287018548 1106.2060867073105 26/09/24 18:02\n",
      "200 787.2575287018548 1130.4388048636843 26/09/24 18:02\n",
      "250 787.2575287018548 1138.3008998268028 26/09/24 18:02\n",
      "300 787.2575287018548 1083.0595128808206 26/09/24 18:02\n",
      "350 787.2575287018548 1136.353910646115 26/09/24 18:02\n",
      "400 787.2575287018548 1096.6516400295234 26/09/24 18:02\n",
      "450 787.2575287018548 1100.1628451177326 26/09/24 18:02\n",
      "500 787.2575287018548 1069.03798177821 26/09/24 18:02\n",
      "550 787.2575287018548 1087.766987492921 26/09/24 18:02\n",
      "600 767.6276420987753 1081.5181547587956 26/09/24 18:02\n",
      "650 763.6079025828792 1095.5467093444406 26/09/24 18:02\n",
      "700 763.6079025828792 1104.069007456494 26/09/24 18:02\n",
      "750 756.6485563285167 1046.9359512549029 26/09/24 18:02\n",
      "800 756.6485563285167 1080.1953849133868 26/09/24 18:02\n",
      "850 746.258295232827 1112.2810274491144 26/09/24 18:02\n",
      "900 746.258295232827 1103.7594966857616 26/09/24 18:02\n",
      "950 746.258295232827 1038.6996575503995 26/09/24 18:02\n",
      "1000 746.258295232827 1106.386039749551 26/09/24 18:02\n",
      "1050 687.713692920683 1038.5503141512315 26/09/24 18:02\n",
      "1100 687.713692920683 1068.1671344539811 26/09/24 18:02\n",
      "1150 687.713692920683 1086.672110068189 26/09/24 18:02\n",
      "1200 687.713692920683 1056.5383863384834 26/09/24 18:02\n",
      "1250 687.713692920683 1112.634010164965 26/09/24 18:02\n",
      "1300 687.713692920683 1082.3155560153803 26/09/24 18:02\n",
      "1350 687.713692920683 1094.9031257841175 26/09/24 18:02\n",
      "1400 687.713692920683 1113.5509870938865 26/09/24 18:02\n",
      "1450 687.713692920683 1108.7799076094473 26/09/24 18:02\n",
      "1500 687.713692920683 1096.5899759400102 26/09/24 18:02\n",
      "1550 687.713692920683 1062.021864650941 26/09/24 18:02\n",
      "1600 687.713692920683 1047.3123404639591 26/09/24 18:02\n",
      "1650 687.713692920683 1143.504775053647 26/09/24 18:02\n",
      "1700 687.713692920683 1121.1976572052229 26/09/24 18:02\n",
      "1750 687.713692920683 1158.3716948015049 26/09/24 18:02\n",
      "1800 687.713692920683 1089.7599951476848 26/09/24 18:02\n",
      "1850 687.713692920683 1062.338398787834 26/09/24 18:02\n",
      "1900 687.713692920683 1078.2901606069538 26/09/24 18:02\n",
      "1950 687.713692920683 1088.4318549659858 26/09/24 18:02\n",
      "2000 687.713692920683 1083.2617515013203 26/09/24 18:02\n",
      "2050 687.713692920683 1084.7767455128878 26/09/24 18:02\n",
      "2100 687.713692920683 1130.5219098607067 26/09/24 18:02\n",
      "2150 687.713692920683 1060.6272423266814 26/09/24 18:02\n",
      "2200 687.713692920683 1128.5691937453832 26/09/24 18:02\n",
      "2250 687.713692920683 1109.964178236404 26/09/24 18:02\n",
      "2300 687.713692920683 1118.6647701025352 26/09/24 18:02\n",
      "2350 687.713692920683 1058.590063720868 26/09/24 18:02\n",
      "2400 687.713692920683 1102.1599878744628 26/09/24 18:02\n",
      "2450 687.713692920683 1057.7245854070475 26/09/24 18:02\n",
      "2500 687.713692920683 1076.9790127995025 26/09/24 18:02\n",
      "2550 687.713692920683 1099.6516311484831 26/09/24 18:02\n",
      "2600 687.713692920683 1069.4561206563772 26/09/24 18:02\n",
      "2650 687.713692920683 1108.694614656474 26/09/24 18:02\n",
      "2700 687.713692920683 1113.2463019296274 26/09/24 18:02\n",
      "2750 687.713692920683 1085.1566603898277 26/09/24 18:02\n",
      "2800 687.713692920683 1102.120171701812 26/09/24 18:02\n",
      "2850 687.713692920683 1108.4111557135966 26/09/24 18:02\n",
      "2900 687.713692920683 1044.1861089707204 26/09/24 18:02\n",
      "2950 687.713692920683 1070.5265387406923 26/09/24 18:02\n",
      "3000 687.713692920683 1102.8660041736102 26/09/24 18:02\n",
      "3050 687.713692920683 1112.6013132525147 26/09/24 18:02\n",
      "3100 687.713692920683 1095.7718432317863 26/09/24 18:02\n",
      "3150 687.713692920683 1064.4663481121504 26/09/24 18:02\n",
      "3200 687.713692920683 1127.847722066642 26/09/24 18:02\n",
      "3250 687.713692920683 1073.3160982211377 26/09/24 18:02\n",
      "3300 687.713692920683 1090.8084388585205 26/09/24 18:02\n",
      "3350 687.713692920683 1089.3770219580342 26/09/24 18:02\n",
      "3400 687.713692920683 1099.0930020995959 26/09/24 18:02\n",
      "3450 687.713692920683 1125.0302393996612 26/09/24 18:02\n",
      "3500 687.713692920683 1137.351540373651 26/09/24 18:02\n",
      "3550 687.713692920683 1062.3834964980592 26/09/24 18:02\n",
      "3600 687.713692920683 1127.974804842042 26/09/24 18:02\n",
      "3650 687.713692920683 1096.9172237290868 26/09/24 18:02\n",
      "3700 687.713692920683 1110.371402893787 26/09/24 18:02\n",
      "3750 687.713692920683 1033.3034392887434 26/09/24 18:02\n",
      "3800 687.713692920683 1067.2492234879135 26/09/24 18:02\n",
      "3850 687.713692920683 1085.8142174959585 26/09/24 18:02\n",
      "3900 687.713692920683 1086.5447087042808 26/09/24 18:02\n",
      "3950 687.713692920683 1097.3047692424664 26/09/24 18:02\n",
      "4000 687.713692920683 1063.3771253027483 26/09/24 18:02\n",
      "4050 687.713692920683 1120.5723466963088 26/09/24 18:02\n",
      "4100 687.713692920683 1085.247275048175 26/09/24 18:02\n",
      "4150 687.713692920683 1069.1515982281414 26/09/24 18:02\n",
      "4200 687.713692920683 1061.3144653980034 26/09/24 18:02\n",
      "4250 687.713692920683 1052.7559502924173 26/09/24 18:02\n",
      "4300 687.713692920683 1115.0576047315294 26/09/24 18:02\n",
      "4350 687.713692920683 1077.4613284102095 26/09/24 18:02\n",
      "4400 687.713692920683 1118.035795826378 26/09/24 18:02\n",
      "4450 687.713692920683 1115.712826135962 26/09/24 18:02\n",
      "4500 687.713692920683 1063.7196974813312 26/09/24 18:02\n",
      "4550 687.713692920683 1103.9888043733868 26/09/24 18:02\n",
      "4600 687.713692920683 1059.3308572377043 26/09/24 18:02\n",
      "4650 687.713692920683 1099.0887277807722 26/09/24 18:02\n",
      "4700 687.713692920683 1078.02267164231 26/09/24 18:02\n",
      "4750 687.713692920683 1144.8675575897323 26/09/24 18:02\n",
      "4800 687.713692920683 1110.2840664872845 26/09/24 18:02\n",
      "4850 687.713692920683 1111.8704330746962 26/09/24 18:02\n",
      "4900 687.713692920683 1114.0067522855404 26/09/24 18:02\n",
      "4950 687.713692920683 1081.9151868007248 26/09/24 18:02\n",
      "5000 687.713692920683 1019.3725652062114 26/09/24 18:02\n",
      "5050 687.713692920683 1099.7757976434893 26/09/24 18:02\n",
      "5100 687.713692920683 1133.477627893587 26/09/24 18:02\n",
      "5150 687.713692920683 1092.4814652559921 26/09/24 18:02\n",
      "5200 687.713692920683 1086.8041169523271 26/09/24 18:02\n",
      "5250 687.713692920683 1089.9608957131807 26/09/24 18:02\n",
      "5300 687.713692920683 1060.3873674737436 26/09/24 18:02\n",
      "5350 687.713692920683 1077.2640991205221 26/09/24 18:02\n",
      "5400 687.713692920683 1095.401951566098 26/09/24 18:02\n",
      "5450 687.713692920683 1007.4658583810784 26/09/24 18:02\n",
      "5500 687.713692920683 1091.1810806035232 26/09/24 18:02\n",
      "5550 687.713692920683 1115.2184662930918 26/09/24 18:02\n",
      "5600 687.713692920683 1028.4932645416013 26/09/24 18:02\n",
      "5650 687.713692920683 1067.8751247431298 26/09/24 18:02\n",
      "5700 687.713692920683 1068.335068287723 26/09/24 18:02\n",
      "5750 687.713692920683 1133.9949111739709 26/09/24 18:02\n",
      "5800 687.713692920683 1088.4068107562985 26/09/24 18:02\n",
      "5850 687.713692920683 1016.2914595699436 26/09/24 18:02\n",
      "5900 687.713692920683 1119.7424221432207 26/09/24 18:02\n",
      "5950 687.713692920683 1128.0603654422293 26/09/24 18:02\n",
      "6000 687.713692920683 1074.885229158242 26/09/24 18:02\n",
      "6050 687.713692920683 1056.4307705175272 26/09/24 18:02\n",
      "6100 675.8823609236347 1095.8565658785246 26/09/24 18:02\n",
      "6150 675.8823609236347 1079.7775974203346 26/09/24 18:02\n",
      "6200 671.0394576031479 1058.9919123439272 26/09/24 18:02\n",
      "6250 671.0394576031479 1098.5578250501912 26/09/24 18:02\n",
      "6300 671.0394576031479 1113.3250560765616 26/09/24 18:02\n",
      "6350 671.0394576031479 1085.993271108716 26/09/24 18:02\n",
      "6400 671.0394576031479 1103.589236264245 26/09/24 18:02\n",
      "6450 671.0394576031479 1129.782278314987 26/09/24 18:02\n",
      "6500 671.0394576031479 1103.194311726115 26/09/24 18:02\n",
      "6550 671.0394576031479 1098.0084600353223 26/09/24 18:02\n",
      "6600 671.0394576031479 1086.4565545177688 26/09/24 18:02\n",
      "6650 671.0394576031479 1062.3313692924153 26/09/24 18:02\n",
      "6700 671.0394576031479 1033.0485871494336 26/09/24 18:02\n",
      "6750 671.0394576031479 1098.3595903653109 26/09/24 18:02\n",
      "6800 671.0394576031479 1067.1584049084668 26/09/24 18:02\n",
      "6850 671.0394576031479 1045.0442277199697 26/09/24 18:02\n",
      "6900 671.0394576031479 1060.377633497564 26/09/24 18:02\n",
      "6950 671.0394576031479 1120.1686516816928 26/09/24 18:02\n",
      "7000 671.0394576031479 1087.2320178489354 26/09/24 18:02\n",
      "7050 671.0394576031479 1072.0037363807646 26/09/24 18:02\n",
      "7100 671.0394576031479 1058.9724636695296 26/09/24 18:02\n",
      "7150 671.0394576031479 1110.8870064556424 26/09/24 18:02\n",
      "7200 671.0394576031479 1072.4440621021936 26/09/24 18:02\n",
      "7250 671.0394576031479 1110.7120387455602 26/09/24 18:02\n",
      "7300 671.0394576031479 1076.9457366587562 26/09/24 18:02\n",
      "7350 671.0394576031479 1119.1110284358706 26/09/24 18:02\n",
      "7400 671.0394576031479 1059.0738594029078 26/09/24 18:02\n",
      "7450 671.0394576031479 1120.8307227547207 26/09/24 18:02\n",
      "7500 671.0394576031479 1048.0246065338274 26/09/24 18:02\n",
      "7550 671.0394576031479 1106.6142390878952 26/09/24 18:02\n",
      "7600 663.0929144880552 1079.2446310423124 26/09/24 18:02\n",
      "7650 663.0929144880552 1097.7013354712308 26/09/24 18:02\n",
      "7700 663.0929144880552 1102.4796987659192 26/09/24 18:02\n",
      "7750 663.0929144880552 1087.0991503661562 26/09/24 18:02\n",
      "7800 663.0929144880552 1114.3604720097408 26/09/24 18:02\n",
      "7850 663.0929144880552 1121.6567709692042 26/09/24 18:02\n",
      "7900 663.0929144880552 1075.973254940934 26/09/24 18:02\n",
      "7950 663.0929144880552 1117.7229582347265 26/09/24 18:02\n",
      "8000 663.0929144880552 1100.4174442302885 26/09/24 18:02\n",
      "8050 663.0929144880552 1050.1116539079462 26/09/24 18:02\n",
      "8100 663.0929144880552 1082.064175714654 26/09/24 18:02\n",
      "8150 663.0929144880552 1031.2574764361389 26/09/24 18:02\n",
      "8200 663.0929144880552 1082.210593221666 26/09/24 18:02\n",
      "8250 663.0929144880552 1090.9269639988993 26/09/24 18:02\n",
      "8300 663.0929144880552 1074.3884094761877 26/09/24 18:02\n",
      "8350 663.0929144880552 1102.042936867932 26/09/24 18:02\n",
      "8400 663.0929144880552 1115.7672253602836 26/09/24 18:02\n",
      "8450 663.0929144880552 1111.7890065469232 26/09/24 18:02\n",
      "8500 652.0688035040781 1056.4077724803774 26/09/24 18:02\n",
      "8550 652.0688035040781 1073.1421126322489 26/09/24 18:02\n",
      "8600 652.0688035040781 1092.812778998447 26/09/24 18:02\n",
      "8650 652.0688035040781 1108.4840320360674 26/09/24 18:02\n",
      "8700 652.0688035040781 1037.9017004074058 26/09/24 18:02\n",
      "8750 652.0688035040781 1087.6162572948328 26/09/24 18:02\n",
      "8800 652.0688035040781 1103.5294182120035 26/09/24 18:02\n",
      "8850 652.0688035040781 1058.2412014157233 26/09/24 18:02\n",
      "8900 652.0688035040781 1063.2548063943304 26/09/24 18:02\n",
      "8950 652.0688035040781 1086.1607620426157 26/09/24 18:02\n",
      "9000 652.0688035040781 1118.0597577802 26/09/24 18:02\n",
      "9050 652.0688035040781 1098.3958577207286 26/09/24 18:02\n",
      "9100 652.0688035040781 1013.1092681387493 26/09/24 18:02\n",
      "9150 652.0688035040781 1128.834181773674 26/09/24 18:02\n",
      "9200 652.0688035040781 1074.1186090658446 26/09/24 18:02\n",
      "9250 652.0688035040781 1097.2897407480077 26/09/24 18:02\n",
      "9300 652.0688035040781 1111.906089124244 26/09/24 18:02\n",
      "9350 652.0688035040781 1104.3582936258856 26/09/24 18:02\n",
      "9400 652.0688035040781 1131.4405878197235 26/09/24 18:02\n",
      "9450 652.0688035040781 1047.149867912594 26/09/24 18:02\n",
      "9500 652.0688035040781 1124.2076668751872 26/09/24 18:02\n",
      "9550 652.0688035040781 1115.1570088089675 26/09/24 18:02\n",
      "9600 652.0688035040781 1052.0421277847174 26/09/24 18:02\n",
      "9650 652.0688035040781 1112.3114145504337 26/09/24 18:02\n",
      "9700 652.0688035040781 1139.6415162064488 26/09/24 18:02\n",
      "9750 652.0688035040781 1108.4938834103089 26/09/24 18:02\n",
      "9800 652.0688035040781 1099.9117338042067 26/09/24 18:02\n",
      "9850 652.0688035040781 1108.0907117926781 26/09/24 18:02\n",
      "9900 652.0688035040781 1083.2675425738867 26/09/24 18:02\n",
      "9950 652.0688035040781 1083.765118335708 26/09/24 18:02\n"
     ]
    }
   ],
   "source": [
    "best_solution = [-1,np.inf,np.array([])]\n",
    "for i in range(10000):\n",
    "    if i%50==0: print(i, best_solution[1], fitnes_list.mean(), datetime.now().strftime(\"%d/%m/%y %H:%M\"))\n",
    "    fitnes_list = get_all_fitnes(mutated_pop,cities_dict)\n",
    "    \n",
    "    #Saving the best solution\n",
    "    if fitnes_list.min() < best_solution[1]:\n",
    "        best_solution[0] = i\n",
    "        best_solution[1] = fitnes_list.min()\n",
    "        best_solution[2] = np.array(mutated_pop)[fitnes_list.min() == fitnes_list]\n",
    "    \n",
    "    progenitor_list = progenitor_selection(population_set,fitnes_list)\n",
    "    new_population_set = mate_population(progenitor_list)\n",
    "    \n",
    "    mutated_pop = mutate_population(new_population_set)"
   ]
  },
  {
   "cell_type": "code",
   "execution_count": 67,
   "metadata": {},
   "outputs": [
    {
     "data": {
      "text/plain": [
       "[8484,\n",
       " 652.0688035040781,\n",
       " array([['Paris', 'Budapest', 'Prague', 'Warsaw', 'Sofia', 'Brussels',\n",
       "         'Milan', 'Amsterdam', 'Birmingham', 'Bucharest', 'London',\n",
       "         'Munich', 'Berlin', 'Vienna', 'Moscow', 'Minsk', 'Kyiv', 'Rome',\n",
       "         'Istanbul', 'Barcelona']], dtype='<U10')]"
      ]
     },
     "execution_count": 67,
     "metadata": {},
     "output_type": "execute_result"
    }
   ],
   "source": [
    "best_solution"
   ]
  },
  {
   "cell_type": "code",
   "execution_count": null,
   "metadata": {},
   "outputs": [],
   "source": []
  }
 ],
 "metadata": {
  "kernelspec": {
   "display_name": "Python 3.10.6 64-bit",
   "language": "python",
   "name": "python3"
  },
  "language_info": {
   "codemirror_mode": {
    "name": "ipython",
    "version": 3
   },
   "file_extension": ".py",
   "mimetype": "text/x-python",
   "name": "python",
   "nbconvert_exporter": "python",
   "pygments_lexer": "ipython3",
   "version": "3.12.6"
  },
  "vscode": {
   "interpreter": {
    "hash": "33a4542e4cc6c10be1951f7181ece9e030a5d84a8de853c4e052a2492c0e6b9c"
   }
  }
 },
 "nbformat": 4,
 "nbformat_minor": 2
}
